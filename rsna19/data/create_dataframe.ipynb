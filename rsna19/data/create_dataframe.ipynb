{
 "cells": [
  {
   "cell_type": "code",
   "execution_count": null,
   "metadata": {},
   "outputs": [],
   "source": [
    "import os\n",
    "import pandas\n",
    "from tqdm import tqdm_notebook as tqdm\n",
    "import pickle\n",
    "from collections import defaultdict\n",
    "\n",
    "import pydicom\n",
    "\n",
    "ROOT_PATH = '/kolos/storage/ct/data/tkmedica/dicoms'\n",
    "DF_PATH = '/kolos/m2/ct/data/tkmedica/df.pkl'"
   ]
  },
  {
   "cell_type": "code",
   "execution_count": null,
   "metadata": {},
   "outputs": [],
   "source": [
    "def read_dicom(path):\n",
    "    return pydicom.dcmread(path, stop_before_pixels=True)"
   ]
  },
  {
   "cell_type": "code",
   "execution_count": null,
   "metadata": {},
   "outputs": [],
   "source": [
    "tags = ['SOPInstanceUID',\n",
    " 'StudyDate',\n",
    " 'SeriesDate',\n",
    " 'AcquisitionDate',\n",
    " 'ContentDate',\n",
    " 'StudyTime',\n",
    " 'SeriesTime',\n",
    " 'AcquisitionTime',\n",
    " 'ContentTime',\n",
    " 'SeriesDescription',\n",
    " 'PatientName',\n",
    " 'PatientID',\n",
    " 'BodyPartExamined',\n",
    " 'StudyInstanceUID',\n",
    " 'SeriesInstanceUID',\n",
    " 'SeriesNumber',\n",
    " 'AcquisitionNumber',\n",
    " 'InstanceNumber',\n",
    " 'ImagePositionPatient']"
   ]
  },
  {
   "cell_type": "code",
   "execution_count": null,
   "metadata": {},
   "outputs": [],
   "source": [
    "d = defaultdict(list)\n",
    "dcm_ix = 0\n",
    "for dir_ix, (root, dirs, files) in tqdm(enumerate(os.walk(ROOT_PATH))):\n",
    "    for file in files:\n",
    "        try:\n",
    "            dcm = read_dicom(os.path.join(root, file))\n",
    "            for tag in tags:\n",
    "                try:\n",
    "                    d[tag].append(dcm[tag].value)\n",
    "                except KeyError:\n",
    "                    d[tag].append(None)\n",
    "            d['path'].append(os.path.join(root, file))\n",
    "            dcm_ix += 1\n",
    "        except Exception as e:\n",
    "            print(e)\n",
    "            print(os.path.join(root, file))\n",
    "df = pandas.DataFrame(d)"
   ]
  },
  {
   "cell_type": "code",
   "execution_count": null,
   "metadata": {},
   "outputs": [],
   "source": [
    "with open(DF_PATH, 'wb') as f:\n",
    "    pickle.dump(df, f)"
   ]
  }
 ],
 "metadata": {
  "kernelspec": {
   "display_name": "Python 3",
   "language": "python",
   "name": "python3"
  },
  "language_info": {
   "codemirror_mode": {
    "name": "ipython",
    "version": 3
   },
   "file_extension": ".py",
   "mimetype": "text/x-python",
   "name": "python",
   "nbconvert_exporter": "python",
   "pygments_lexer": "ipython3",
   "version": "3.6.7"
  }
 },
 "nbformat": 4,
 "nbformat_minor": 2
}
